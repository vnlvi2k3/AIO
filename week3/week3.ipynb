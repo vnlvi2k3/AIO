{
 "cells": [
  {
   "cell_type": "code",
   "execution_count": 8,
   "id": "1960ff61-0c00-4c3f-91eb-a633d623f677",
   "metadata": {},
   "outputs": [],
   "source": [
    "import torch.nn as nn  # type: ignore\n",
    "import torch # type: ignore\n",
    "import math\n",
    "class Softmax(nn.Module):\n",
    "    def __init__(self):\n",
    "        super().__init__()\n",
    "    def forward(self, x):\n",
    "        return torch.exp(x) / sum(torch.exp(x))\n",
    "\n",
    "class softmax_stable(nn.Module):\n",
    "    def __init__(self):\n",
    "        super().__init__()\n",
    "    def forward(self, x):\n",
    "        c = max(x)\n",
    "        return torch.exp(x - c) / sum(torch.exp(x - c))\n",
    "        "
   ]
  },
  {
   "cell_type": "code",
   "execution_count": 10,
   "id": "240670e0-f613-4b5e-bc68-bfe7daf31a4f",
   "metadata": {},
   "outputs": [
    {
     "name": "stdout",
     "output_type": "stream",
     "text": [
      "tensor([0.0900, 0.2447, 0.6652])\n",
      "tensor([0.0900, 0.2447, 0.6652])\n"
     ]
    }
   ],
   "source": [
    "data = torch.Tensor([1, 2, 3])\n",
    "softmax = Softmax()\n",
    "output = softmax(data)\n",
    "print(output)\n",
    "data = torch.Tensor([1, 2, 3])\n",
    "softmax = softmax_stable()\n",
    "output = softmax(data)\n",
    "print(output)"
   ]
  },
  {
   "cell_type": "code",
   "execution_count": 75,
   "id": "a4843578-dad2-4715-ab1c-56396b9a5e0c",
   "metadata": {},
   "outputs": [],
   "source": [
    "class Person(): \n",
    "    def __init__(self, name, yob):\n",
    "        self.name = name\n",
    "        self.yob = yob\n",
    "\n",
    "class Student(Person):\n",
    "    def __init__(self, name, yob, grade):\n",
    "        super().__init__(name, yob)\n",
    "        self.grade = grade\n",
    "    def describe(self):\n",
    "        print(f\"Student - Name: {self.name} - YoB: {self.yob} - Grade: {self.grade}\")\n",
    "\n",
    "class Teacher(Person):\n",
    "    def __init__(self, name, yob, subject):\n",
    "        super().__init__(name, yob)\n",
    "        self.subject = subject\n",
    "    def describe(self):\n",
    "        print(f\"Teacher - Name: {self.name} - YoB: {self.yob} - Subject: {self.subject}\")\n",
    "\n",
    "class Doctor(Person):\n",
    "    def __init__(self, name, yob, specialist):\n",
    "        super().__init__(name, yob)\n",
    "        self.specialist = specialist\n",
    "    def describe(self):\n",
    "        print(f\"Doctor - Name: {self.name} - YoB: {self.yob} - Specialist: {self.specialist}\")\n",
    "\n",
    "class Ward():\n",
    "    def __init__(self, name):\n",
    "        self.name = name\n",
    "        self.lst_people = []\n",
    "\n",
    "    def describe(self):\n",
    "        print(f\"Ward Name: {self.name}\")\n",
    "        [i.describe() for i in self.lst_people]\n",
    "\n",
    "    def add_person(self, person):\n",
    "        self.lst_people.append(person)\n",
    "\n",
    "    def count_doctor(self):\n",
    "        return sum([1 for i in self.lst_people if isinstance(i, Doctor)])\n",
    "\n",
    "    def sort_age(self):\n",
    "        self.lst_people = sorted(self.lst_people, key=lambda x: x.yob, reverse=True)\n",
    "\n",
    "    def compute_average(self):\n",
    "        teachers_yob = [i.yob for i in self.lst_people if isinstance(i, Teacher)]\n",
    "        return sum(teachers_yob) / len(teachers_yob)"
   ]
  },
  {
   "cell_type": "code",
   "execution_count": 76,
   "id": "69bd4248-10db-4783-abf8-c0bd143bca57",
   "metadata": {},
   "outputs": [
    {
     "name": "stdout",
     "output_type": "stream",
     "text": [
      "Student - Name: studentA - YoB: 2010 - Grade: 7\n"
     ]
    }
   ],
   "source": [
    "student1 = Student ( name =\"studentA\", yob =2010 , grade =\"7\")\n",
    "student1 . describe ()"
   ]
  },
  {
   "cell_type": "code",
   "execution_count": 77,
   "id": "dbaeb1b8-9bf9-49da-991a-3a350e1d45ec",
   "metadata": {},
   "outputs": [
    {
     "name": "stdout",
     "output_type": "stream",
     "text": [
      "Teacher - Name: teacherA - YoB: 1969 - Subject: Math\n"
     ]
    }
   ],
   "source": [
    "teacher1 = Teacher ( name =\"teacherA\", yob =1969 , subject =\"Math\")\n",
    "teacher1 . describe ()"
   ]
  },
  {
   "cell_type": "code",
   "execution_count": 78,
   "id": "1aa602e7-fbd6-4ced-8a12-11e686ff8cc4",
   "metadata": {},
   "outputs": [
    {
     "name": "stdout",
     "output_type": "stream",
     "text": [
      "Doctor - Name: doctorA - YoB: 1945 - Specialist: Endocrinologists\n"
     ]
    }
   ],
   "source": [
    "doctor1 = Doctor ( name =\"doctorA\", yob =1945 , specialist =\"Endocrinologists\")\n",
    "doctor1 . describe ()"
   ]
  },
  {
   "cell_type": "code",
   "execution_count": 79,
   "id": "74dc0d96-9d4b-457d-86cf-d8c83746e481",
   "metadata": {},
   "outputs": [
    {
     "name": "stdout",
     "output_type": "stream",
     "text": [
      "Ward Name: Ward1\n",
      "Student - Name: studentA - YoB: 2010 - Grade: 7\n",
      "Teacher - Name: teacherA - YoB: 1969 - Subject: Math\n",
      "Teacher - Name: teacherB - YoB: 1995 - Subject: History\n",
      "Doctor - Name: doctorA - YoB: 1945 - Specialist: Endocrinologists\n",
      "Doctor - Name: doctorB - YoB: 1975 - Specialist: Cardiologists\n"
     ]
    }
   ],
   "source": [
    "teacher2 = Teacher ( name =\"teacherB\", yob =1995 , subject =\"History\")\n",
    "doctor2 = Doctor ( name =\"doctorB\", yob =1975 , specialist =\"Cardiologists\")\n",
    "ward1 = Ward ( name =\"Ward1\")\n",
    "ward1 . add_person ( student1 )\n",
    "ward1 . add_person ( teacher1 )\n",
    "ward1 . add_person ( teacher2 )\n",
    "ward1 . add_person ( doctor1 )\n",
    "ward1 . add_person ( doctor2 )\n",
    "ward1 . describe ()"
   ]
  },
  {
   "cell_type": "code",
   "execution_count": 80,
   "id": "60121217-d521-4ac7-877d-74e4512cd4a3",
   "metadata": {},
   "outputs": [
    {
     "name": "stdout",
     "output_type": "stream",
     "text": [
      "\n",
      "Number of doctors : 2\n"
     ]
    }
   ],
   "source": [
    "print ( f\"\\nNumber of doctors : { ward1 . count_doctor ()}\")"
   ]
  },
  {
   "cell_type": "code",
   "execution_count": 81,
   "id": "f69636e5-ae60-44af-a509-ccf0d706a506",
   "metadata": {},
   "outputs": [
    {
     "name": "stdout",
     "output_type": "stream",
     "text": [
      "\n",
      "After sorting Age of Ward1 people \n",
      "Ward Name: Ward1\n",
      "Student - Name: studentA - YoB: 2010 - Grade: 7\n",
      "Teacher - Name: teacherB - YoB: 1995 - Subject: History\n",
      "Doctor - Name: doctorB - YoB: 1975 - Specialist: Cardiologists\n",
      "Teacher - Name: teacherA - YoB: 1969 - Subject: Math\n",
      "Doctor - Name: doctorA - YoB: 1945 - Specialist: Endocrinologists\n"
     ]
    }
   ],
   "source": [
    "print (\"\\nAfter sorting Age of Ward1 people \")\n",
    "ward1 . sort_age ()\n",
    "ward1 . describe ()"
   ]
  },
  {
   "cell_type": "code",
   "execution_count": 82,
   "id": "aca218f9-ecbc-4d29-af2d-4594790ebe6f",
   "metadata": {},
   "outputs": [
    {
     "name": "stdout",
     "output_type": "stream",
     "text": [
      "\n",
      "Average year of birth ( teachers ): 1982.0\n"
     ]
    }
   ],
   "source": [
    "print ( f\"\\nAverage year of birth ( teachers ): { ward1 . compute_average ()}\")"
   ]
  },
  {
   "cell_type": "code",
   "execution_count": 87,
   "id": "dd2ae45f-306e-4e83-9662-9dca24e2a3ec",
   "metadata": {},
   "outputs": [],
   "source": [
    "class MyStack():\n",
    "    def __init__(self, capacity):\n",
    "        self.capacity = capacity\n",
    "        self.items = []\n",
    "\n",
    "    def is_empty(self):\n",
    "        return len(self.items) == 0\n",
    "\n",
    "    def is_full(self):\n",
    "        return len(self.items) == self.capacity\n",
    "\n",
    "    def pop(self):\n",
    "        return self.items.pop()\n",
    "\n",
    "    def push(self, value):\n",
    "        self.items.append(value)\n",
    "\n",
    "    def top(self):\n",
    "        return self.items[-1]"
   ]
  },
  {
   "cell_type": "code",
   "execution_count": 88,
   "id": "9d2cbdb9-19e6-47b3-a7e1-8a0423d4cf50",
   "metadata": {},
   "outputs": [
    {
     "name": "stdout",
     "output_type": "stream",
     "text": [
      "False\n",
      "2\n",
      "2\n",
      "1\n",
      "1\n",
      "True\n"
     ]
    }
   ],
   "source": [
    "stack1 = MyStack ( capacity =5)\n",
    "stack1 . push (1)\n",
    "stack1 . push (2)\n",
    "print ( stack1 . is_full () )\n",
    "print ( stack1 . top () )\n",
    "print ( stack1 . pop () )\n",
    "print ( stack1 . top () )\n",
    "print ( stack1 . pop () )\n",
    "print ( stack1 . is_empty () )"
   ]
  },
  {
   "cell_type": "code",
   "execution_count": 97,
   "id": "bb57041d-03c1-4c4a-a9c7-d7d45dd4f5fa",
   "metadata": {},
   "outputs": [],
   "source": [
    "class MyQueue():\n",
    "    def __init__(self, capacity):\n",
    "        self.capacity = capacity \n",
    "        self.items = []\n",
    "\n",
    "    def is_empty(self):\n",
    "        return len(self.items) == 0\n",
    "\n",
    "    def is_full(self):\n",
    "        return len(self.items) == self.capacity\n",
    "\n",
    "    def dequeue(self):\n",
    "        return self.items.pop(0)\n",
    "\n",
    "    def enqueue(self, value):\n",
    "        self.items.append(value)\n",
    "\n",
    "    def front(self):\n",
    "        return self.items[0]"
   ]
  },
  {
   "cell_type": "code",
   "execution_count": 98,
   "id": "c74ab155-5216-433c-844a-25d977570195",
   "metadata": {},
   "outputs": [
    {
     "name": "stdout",
     "output_type": "stream",
     "text": [
      "False\n",
      "1\n",
      "1\n",
      "2\n",
      "2\n",
      "True\n"
     ]
    }
   ],
   "source": [
    "queue1 = MyQueue ( capacity =5)\n",
    "queue1 . enqueue (1)\n",
    "queue1 . enqueue (2)\n",
    "print ( queue1 . is_full () )\n",
    "print ( queue1 . front () )\n",
    "print ( queue1 . dequeue () )\n",
    "print ( queue1 . front () )\n",
    "print ( queue1 . dequeue () )\n",
    "print ( queue1 . is_empty () )"
   ]
  },
  {
   "cell_type": "code",
   "execution_count": 99,
   "id": "cbebbc4f-cf35-4cf8-9d02-84ce6d3d80bf",
   "metadata": {},
   "outputs": [
    {
     "data": {
      "text/plain": [
       "tensor([0.0900, 0.2447, 0.6652])"
      ]
     },
     "execution_count": 99,
     "metadata": {},
     "output_type": "execute_result"
    }
   ],
   "source": [
    "import torch # type: ignore\n",
    "import torch . nn as nn # type: ignore\n",
    "\n",
    "data = torch . Tensor ([1 , 2 , 3])\n",
    "softmax_function = nn . Softmax ( dim =0)\n",
    "output = softmax_function ( data )\n",
    "assert nn.isclose(round ( output [0]. item () , 2), 0.09, rtol=1e-09, atol=1e-09)\n",
    "output"
   ]
  },
  {
   "cell_type": "code",
   "execution_count": 101,
   "id": "b2262934-f0c9-4f5f-87da-d260f5c696ad",
   "metadata": {},
   "outputs": [
    {
     "data": {
      "text/plain": [
       "tensor([0.7054, 0.0351, 0.2595])"
      ]
     },
     "execution_count": 101,
     "metadata": {},
     "output_type": "execute_result"
    }
   ],
   "source": [
    "import torch # type: ignore\n",
    "import torch . nn as nn # type: ignore\n",
    "\n",
    "class MySoftmax ( nn . Module ) :\n",
    "    def __init__ ( self ) :\n",
    "        super () . __init__ ()\n",
    "    def forward ( self , x ):\n",
    "        return torch.exp(x) / sum(torch.exp(x))\n",
    "\n",
    "data = torch . Tensor ([5 , 2 , 4])\n",
    "my_softmax = MySoftmax ()\n",
    "output = my_softmax ( data )\n",
    "assert nn.isclose(round ( output [ -1]. item () , 2), 0.26, rtol=1e-09, atol=1e-09)\n",
    "output"
   ]
  },
  {
   "cell_type": "code",
   "execution_count": 103,
   "id": "74bcfbec-6721-487c-bb04-d0f8967be4dc",
   "metadata": {},
   "outputs": [
    {
     "data": {
      "text/plain": [
       "tensor([0., 0., 1.])"
      ]
     },
     "execution_count": 103,
     "metadata": {},
     "output_type": "execute_result"
    }
   ],
   "source": [
    "import torch # type: ignore\n",
    "import torch . nn as nn # type: ignore\n",
    "class MySoftmax ( nn . Module ) :\n",
    "    def __init__ ( self ) :\n",
    "        super () . __init__ ()\n",
    "    def forward ( self , x ) :\n",
    "        c = max(x)\n",
    "        return torch.exp(x - c) / sum(torch.exp(x - c))\n",
    "\n",
    "data = torch . Tensor ([1 , 2 , 300000000])\n",
    "my_softmax = MySoftmax ()\n",
    "output = my_softmax ( data )\n",
    "assert nn.isclose(round ( output [0]. item () , 2), 0.0, rtol=1e-09, atol=1e-09)\n",
    "output"
   ]
  },
  {
   "cell_type": "code",
   "execution_count": 104,
   "id": "dbaaf8e4-07f0-4cae-bb51-062e52146700",
   "metadata": {},
   "outputs": [
    {
     "data": {
      "text/plain": [
       "tensor([0.0900, 0.2447, 0.6652])"
      ]
     },
     "execution_count": 104,
     "metadata": {},
     "output_type": "execute_result"
    }
   ],
   "source": [
    "import torch # type: ignore\n",
    "import torch . nn as nn # type: ignore\n",
    "class SoftmaxStable ( nn . Module ):\n",
    "    def __init__ ( self ) :\n",
    "        super () . __init__ ()\n",
    "    def forward ( self , x ) :\n",
    "        x_max = torch .max(x , dim =0 , keepdims = True )\n",
    "        x_exp = torch . exp ( x - x_max . values )\n",
    "        partition = x_exp .sum (0 , keepdims = True )\n",
    "        return x_exp / partition\n",
    "data = torch . Tensor ([1 , 2 , 3])\n",
    "softmax_stable = SoftmaxStable ()\n",
    "output = softmax_stable ( data )\n",
    "assert nn.isclose(round ( output [ -1]. item () , 2), 0.67, rtol=1e-09, atol=1e-09)\n",
    "output"
   ]
  },
  {
   "cell_type": "code",
   "execution_count": 110,
   "id": "be05957b-7136-4633-848b-2d9c3cf13662",
   "metadata": {},
   "outputs": [],
   "source": [
    "from abc import ABC, abstractmethod\n",
    "class Person(ABC): \n",
    "    def __init__(self, name, yob):\n",
    "        self._name = name\n",
    "        self._yob = yob\n",
    "    @abstractmethod\n",
    "    def describe(self): pass\n",
    "\n",
    "class Student(Person):\n",
    "    def __init__(self, name, yob, grade):\n",
    "        super().__init__(name, yob)\n",
    "        self._grade = grade\n",
    "    def describe(self):\n",
    "        print(f\"Student - Name: {self._name} - YoB: {self._yob} - Grade: {self._grade}\")\n"
   ]
  },
  {
   "cell_type": "code",
   "execution_count": 111,
   "id": "1ad405fc-6965-4f89-9ed0-ee9d5c53bda1",
   "metadata": {},
   "outputs": [
    {
     "name": "stdout",
     "output_type": "stream",
     "text": [
      "Student - Name: studentZ2023 - YoB: 2011 - Grade: 6\n"
     ]
    }
   ],
   "source": [
    "student1 = Student ( name =\"studentZ2023\", yob =2011 , grade =\"6\")\n",
    "assert student1 . _yob == 2011\n",
    "student1 . describe ()"
   ]
  },
  {
   "cell_type": "code",
   "execution_count": 112,
   "id": "3590a225-6941-454e-83a6-eec7d856c7ad",
   "metadata": {},
   "outputs": [],
   "source": [
    "class Teacher(Person):\n",
    "    def __init__(self, name, yob, subject):\n",
    "        super().__init__(name, yob)\n",
    "        self._subject = subject\n",
    "    def describe(self):\n",
    "        print(f\"Teacher - Name: {self._name} - YoB: {self._yob} - Subject: {self._subject}\")"
   ]
  },
  {
   "cell_type": "code",
   "execution_count": 113,
   "id": "1b2de59f-6d76-4aba-875f-5e7513f64280",
   "metadata": {},
   "outputs": [
    {
     "name": "stdout",
     "output_type": "stream",
     "text": [
      "Teacher - Name:  teacherZ2023  - YoB: 1991 - Subject:  History \n"
     ]
    }
   ],
   "source": [
    "teacher1 = Teacher ( name =\" teacherZ2023 \", yob =1991 , subject =\" History \")\n",
    "assert teacher1 . _yob == 1991\n",
    "teacher1 . describe ()"
   ]
  },
  {
   "cell_type": "code",
   "execution_count": 114,
   "id": "b267781c-8458-45df-8ed7-e18d9eb0163c",
   "metadata": {},
   "outputs": [],
   "source": [
    "class Doctor(Person):\n",
    "    def __init__(self, name, yob, specialist):\n",
    "        super().__init__(name, yob)\n",
    "        self._specialist = specialist\n",
    "    def describe(self):\n",
    "        print(f\"Doctor - Name: {self._name} - YoB: {self._yob} - Specialist: {self._specialist}\")"
   ]
  },
  {
   "cell_type": "code",
   "execution_count": 115,
   "id": "94957577-633d-42ce-a581-e5dd9f1b312b",
   "metadata": {},
   "outputs": [
    {
     "name": "stdout",
     "output_type": "stream",
     "text": [
      "Doctor - Name:  doctorZ2023  - YoB: 1981 - Specialist:  Endocrinologists \n"
     ]
    }
   ],
   "source": [
    "doctor1 = Doctor ( name =\" doctorZ2023 \", yob =1981 , specialist =\" Endocrinologists \")\n",
    "assert doctor1 . _yob == 1981\n",
    "doctor1 . describe ()"
   ]
  },
  {
   "cell_type": "code",
   "execution_count": 118,
   "id": "fdb55fd3-dfd1-4722-90e1-1b3aa13eebb0",
   "metadata": {},
   "outputs": [],
   "source": [
    "class Ward:\n",
    "    def __init__(self, name):\n",
    "        self.__name = name\n",
    "        self.__lst_people = []\n",
    "\n",
    "    def describe(self):\n",
    "        print(f\"Ward Name: {self.__name}\")\n",
    "        [i.describe() for i in self.__lst_people]\n",
    "\n",
    "    def add_person(self, person):\n",
    "        self.__lst_people.append(person)\n",
    "\n",
    "    def count_doctor(self):\n",
    "        return sum([1 for i in self.__lst_people if isinstance(i, Doctor)])"
   ]
  },
  {
   "cell_type": "code",
   "execution_count": 120,
   "id": "d7b00874-6271-4d4b-8b06-99662c1d78e5",
   "metadata": {},
   "outputs": [
    {
     "data": {
      "text/plain": [
       "2"
      ]
     },
     "execution_count": 120,
     "metadata": {},
     "output_type": "execute_result"
    }
   ],
   "source": [
    "student1 = Student ( name =\"studentA\", yob =2010 , grade =\"7\")\n",
    "teacher1 = Teacher ( name =\"teacherA\", yob =1969 , subject =\"Math\")\n",
    "teacher2 = Teacher ( name =\"teacherB\", yob =1995 , subject =\"History\")\n",
    "doctor1 = Doctor ( name =\"doctorA\", yob =1945 , specialist =\"Endocrinologists\")\n",
    "doctor2 = Doctor ( name =\"doctorB\", yob =1975 , specialist =\"Cardiologists\")\n",
    "ward1 = Ward ( name =\"Ward1\")\n",
    "ward1 . add_person ( student1 )\n",
    "ward1 . add_person ( teacher1 )\n",
    "ward1 . add_person ( teacher2 )\n",
    "ward1 . add_person ( doctor1 )\n",
    "assert ward1 . count_doctor () == 1\n",
    "ward1 . add_person ( doctor2 )\n",
    "ward1 . count_doctor ()"
   ]
  },
  {
   "cell_type": "code",
   "execution_count": 121,
   "id": "c741693c-7c75-4623-a9ff-c44f52339791",
   "metadata": {},
   "outputs": [],
   "source": [
    "class MyStack():\n",
    "    def __init__(self, capacity):\n",
    "        self.__capacity = capacity\n",
    "        self.__items = []\n",
    "\n",
    "    def is_empty(self):\n",
    "        return len(self.__items) == 0\n",
    "\n",
    "    def is_full(self):\n",
    "        return len(self.__items) == self.__capacity\n",
    "\n",
    "    def pop(self):\n",
    "        return self.__items.pop()\n",
    "\n",
    "    def push(self, value):\n",
    "        self.__items.append(value)\n",
    "\n",
    "    def top(self):\n",
    "        return self.__items[-1]"
   ]
  },
  {
   "cell_type": "code",
   "execution_count": 122,
   "id": "2c70b163-591c-44aa-8c7a-cd3835bd6df6",
   "metadata": {},
   "outputs": [
    {
     "name": "stdout",
     "output_type": "stream",
     "text": [
      "False\n"
     ]
    }
   ],
   "source": [
    "stack1 = MyStack ( capacity =5)\n",
    "stack1 . push (1)\n",
    "assert stack1 . is_full () == False\n",
    "stack1 . push (2)\n",
    "print ( stack1 . is_full () )\n"
   ]
  },
  {
   "cell_type": "code",
   "execution_count": 123,
   "id": "a4503094-f00d-4038-b360-1343d666f5b8",
   "metadata": {},
   "outputs": [
    {
     "name": "stdout",
     "output_type": "stream",
     "text": [
      "2\n"
     ]
    }
   ],
   "source": [
    "stack1 = MyStack ( capacity =5)\n",
    "stack1 . push (1)\n",
    "assert stack1 . is_full () == False\n",
    "stack1 . push (2)\n",
    "print ( stack1 . top () )"
   ]
  },
  {
   "cell_type": "code",
   "execution_count": 124,
   "id": "73accacf-0c4e-4da1-a41f-05120b331015",
   "metadata": {},
   "outputs": [],
   "source": [
    "class MyQueue():\n",
    "    def __init__(self, capacity):\n",
    "        self.__capacity = capacity \n",
    "        self.__items = []\n",
    "\n",
    "    def is_empty(self):\n",
    "        return len(self.__items) == 0\n",
    "\n",
    "    def is_full(self):\n",
    "        return len(self.__items) == self.__capacity\n",
    "\n",
    "    def dequeue(self):\n",
    "        return self.__items.pop(0)\n",
    "\n",
    "    def enqueue(self, value):\n",
    "        self.__items.append(value)\n",
    "\n",
    "    def front(self):\n",
    "        return self.__items[0]"
   ]
  },
  {
   "cell_type": "code",
   "execution_count": 125,
   "id": "ba9b820f-7cd6-4c54-9144-57fa131e28b0",
   "metadata": {},
   "outputs": [
    {
     "name": "stdout",
     "output_type": "stream",
     "text": [
      "False\n"
     ]
    }
   ],
   "source": [
    "queue1 = MyQueue ( capacity =5)\n",
    "queue1 . enqueue (1)\n",
    "assert queue1 . is_full () == False\n",
    "queue1 . enqueue (2)\n",
    "print ( queue1 . is_full () )"
   ]
  },
  {
   "cell_type": "code",
   "execution_count": 126,
   "id": "2eba3811-2152-4bfb-879c-8e5ec63ad24b",
   "metadata": {},
   "outputs": [
    {
     "name": "stdout",
     "output_type": "stream",
     "text": [
      "1\n"
     ]
    }
   ],
   "source": [
    "queue1 = MyQueue ( capacity =5)\n",
    "queue1 . enqueue (1)\n",
    "assert queue1 . is_full () == False\n",
    "queue1 . enqueue (2)\n",
    "print ( queue1 . front () )\n"
   ]
  },
  {
   "cell_type": "code",
   "execution_count": null,
   "id": "e716b819-a4f6-4587-9c91-35a232e07552",
   "metadata": {},
   "outputs": [],
   "source": []
  },
  {
   "cell_type": "code",
   "execution_count": null,
   "id": "69d59f3a-efe9-4f7a-ace8-a47e1be9707a",
   "metadata": {},
   "outputs": [],
   "source": []
  }
 ],
 "metadata": {
  "kernelspec": {
   "display_name": "Python 3 (ipykernel)",
   "language": "python",
   "name": "python3"
  },
  "language_info": {
   "codemirror_mode": {
    "name": "ipython",
    "version": 3
   },
   "file_extension": ".py",
   "mimetype": "text/x-python",
   "name": "python",
   "nbconvert_exporter": "python",
   "pygments_lexer": "ipython3",
   "version": "3.10.14"
  }
 },
 "nbformat": 4,
 "nbformat_minor": 5
}
