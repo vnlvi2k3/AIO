{
 "cells": [
  {
   "cell_type": "code",
   "execution_count": 6,
   "id": "2f4592df-a8f8-49ca-8496-87896f5a29f9",
   "metadata": {},
   "outputs": [
    {
     "data": {
      "text/plain": [
       "[5, 5, 5, 5, 10, 12, 33, 33]"
      ]
     },
     "execution_count": 6,
     "metadata": {},
     "output_type": "execute_result"
    }
   ],
   "source": [
    "#1 \n",
    "def findTopMax(lst, k):\n",
    "    res = []\n",
    "    for i in range(len(lst) - k + 1):\n",
    "        res.append(max(lst[i:i+k]))\n",
    "    return res\n",
    "findTopMax(lst = [3, 4, 5, 1, -44 , 5 ,10, 12 ,33, 1], k = 3)"
   ]
  },
  {
   "cell_type": "code",
   "execution_count": 24,
   "id": "7028b16a-7a80-4311-984e-71b6aa1e6611",
   "metadata": {},
   "outputs": [],
   "source": [
    "def count_chars(string):\n",
    "    res = {}\n",
    "    for c in string:\n",
    "        if c not in res.keys():\n",
    "            res[c] = 1\n",
    "        else: res[c] += 1\n",
    "    return res"
   ]
  },
  {
   "cell_type": "code",
   "execution_count": 25,
   "id": "87d0bd1c-725e-407a-bc95-bb1b4e17bbc4",
   "metadata": {},
   "outputs": [
    {
     "data": {
      "text/plain": [
       "{'h': 1, 'a': 1, 'p': 2, 'i': 1, 'n': 1, 'e': 1, 's': 2}"
      ]
     },
     "execution_count": 25,
     "metadata": {},
     "output_type": "execute_result"
    }
   ],
   "source": [
    "count_chars(\"happiness\")"
   ]
  },
  {
   "cell_type": "code",
   "execution_count": 18,
   "id": "a9aaf6a2-27fa-4cb7-bf66-f9191712d9b6",
   "metadata": {},
   "outputs": [
    {
     "data": {
      "text/plain": [
       "{'s': 2, 'm': 1, 'i': 1, 'l': 1, 'e': 1}"
      ]
     },
     "execution_count": 18,
     "metadata": {},
     "output_type": "execute_result"
    }
   ],
   "source": [
    "count_chars(\"smiles\")"
   ]
  },
  {
   "cell_type": "code",
   "execution_count": 26,
   "id": "925c3c5f-3ea0-46c2-a76d-cc82ea9a6abb",
   "metadata": {},
   "outputs": [
    {
     "name": "stderr",
     "output_type": "stream",
     "text": [
      "Downloading...\n",
      "From: https://drive.google.com/uc?id=1IBScGdW2xlNsc9v5zSAya548kNgiOrko\n",
      "To: C:\\Users\\Lan Vi\\Downloads\\AIO_Exercises\\week2\\P1_data.txt\n",
      "\n",
      "  0%|          | 0.00/747 [00:00<?, ?B/s]\n",
      "100%|##########| 747/747 [00:00<?, ?B/s] \n"
     ]
    }
   ],
   "source": [
    "!gdown https://drive.google.com/uc?id=1IBScGdW2xlNsc9v5zSAya548kNgiOrko"
   ]
  },
  {
   "cell_type": "code",
   "execution_count": 37,
   "id": "bb43d47b-b509-43d1-bc3e-e9fea974f4db",
   "metadata": {},
   "outputs": [],
   "source": [
    "file_path = \"P1_data.txt\""
   ]
  },
  {
   "cell_type": "code",
   "execution_count": 43,
   "id": "b749bd95-201f-4bff-ad5c-ccb3097bee50",
   "metadata": {},
   "outputs": [
    {
     "data": {
      "text/plain": [
       "{'he': 1,\n",
       " 'who': 3,\n",
       " 'conquers': 1,\n",
       " 'himself': 1,\n",
       " 'is': 3,\n",
       " 'the': 5,\n",
       " 'mightiest': 1,\n",
       " 'warrior': 1,\n",
       " 'try': 2,\n",
       " 'not': 1,\n",
       " 'to': 3,\n",
       " 'become': 2,\n",
       " 'a': 7,\n",
       " 'man': 6,\n",
       " 'of': 4,\n",
       " 'success': 3,\n",
       " 'but': 1,\n",
       " 'rather': 1,\n",
       " 'value': 1,\n",
       " 'one': 4,\n",
       " 'with': 4,\n",
       " 'courage': 1,\n",
       " 'makes': 1,\n",
       " 'majority': 1,\n",
       " 'secret': 1,\n",
       " 'in': 4,\n",
       " 'life': 2,\n",
       " 'for': 3,\n",
       " 'be': 1,\n",
       " 'ready': 1,\n",
       " 'his': 2,\n",
       " 'opportunity': 1,\n",
       " 'when': 2,\n",
       " 'it': 2,\n",
       " 'comes': 2,\n",
       " 'successful': 2,\n",
       " 'will': 2,\n",
       " 'profit': 1,\n",
       " 'from': 1,\n",
       " 'mistakes': 1,\n",
       " 'and': 1,\n",
       " 'again': 1,\n",
       " 'different': 1,\n",
       " 'way': 1,\n",
       " 'can': 3,\n",
       " 'lay': 1,\n",
       " 'firm': 1,\n",
       " 'foundation': 1,\n",
       " 'bricks': 1,\n",
       " 'others': 1,\n",
       " 'have': 1,\n",
       " 'thrown': 1,\n",
       " 'at': 1,\n",
       " 'him': 1,\n",
       " 'usually': 1,\n",
       " 'those': 1,\n",
       " 'are': 1,\n",
       " 'too': 1,\n",
       " 'busy': 1,\n",
       " 'looking': 1,\n",
       " 'we': 3,\n",
       " 'cannot': 1,\n",
       " 'solve': 1,\n",
       " 'problems': 1,\n",
       " 'kind': 1,\n",
       " 'thinking': 1,\n",
       " 'employed': 1,\n",
       " 'came': 1,\n",
       " 'up': 1,\n",
       " 'them': 1,\n",
       " 'just': 2,\n",
       " 'small': 1,\n",
       " 'positive': 1,\n",
       " 'thought': 1,\n",
       " 'morning': 1,\n",
       " 'change': 1,\n",
       " 'your': 1,\n",
       " 'whole': 1,\n",
       " 'day': 1,\n",
       " 'you': 3,\n",
       " 'get': 2,\n",
       " 'everything': 1,\n",
       " 'want': 2,\n",
       " 'if': 1,\n",
       " 'help': 1,\n",
       " 'enough': 1,\n",
       " 'other': 1,\n",
       " 'people': 1,\n",
       " 'what': 1,\n",
       " 'they': 1}"
      ]
     },
     "execution_count": 43,
     "metadata": {},
     "output_type": "execute_result"
    }
   ],
   "source": [
    "def word_count(file_path):\n",
    "    res = {}\n",
    "    with open(file_path, \"r\") as f:\n",
    "        for line in f:\n",
    "            for word in line.split():\n",
    "                if word.lower() not in res:\n",
    "                    res[word.lower()] = 1\n",
    "                else: res[word.lower()] += 1\n",
    "        return res\n",
    "\n",
    "word_count(file_path)"
   ]
  },
  {
   "cell_type": "code",
   "execution_count": null,
   "id": "847800f1-a845-4bc8-9219-d9752e109760",
   "metadata": {},
   "outputs": [],
   "source": [
    "def levenshtein_distance()"
   ]
  }
 ],
 "metadata": {
  "kernelspec": {
   "display_name": "Python 3 (ipykernel)",
   "language": "python",
   "name": "python3"
  },
  "language_info": {
   "codemirror_mode": {
    "name": "ipython",
    "version": 3
   },
   "file_extension": ".py",
   "mimetype": "text/x-python",
   "name": "python",
   "nbconvert_exporter": "python",
   "pygments_lexer": "ipython3",
   "version": "3.10.14"
  }
 },
 "nbformat": 4,
 "nbformat_minor": 5
}
