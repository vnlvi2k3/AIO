{
 "cells": [
  {
   "cell_type": "code",
   "execution_count": 6,
   "id": "2f4592df-a8f8-49ca-8496-87896f5a29f9",
   "metadata": {},
   "outputs": [
    {
     "data": {
      "text/plain": [
       "[5, 5, 5, 5, 10, 12, 33, 33]"
      ]
     },
     "execution_count": 6,
     "metadata": {},
     "output_type": "execute_result"
    }
   ],
   "source": [
    "#1 \n",
    "def find_top_max(lst, k):\n",
    "    res = []\n",
    "    for i in range(len(lst) - k + 1):\n",
    "        res.append(max(lst[i:i+k]))\n",
    "    return res\n",
    "find_top_max(lst = [3, 4, 5, 1, -44 , 5 ,10, 12 ,33, 1], k = 3)"
   ]
  },
  {
   "cell_type": "code",
   "execution_count": 24,
   "id": "7028b16a-7a80-4311-984e-71b6aa1e6611",
   "metadata": {},
   "outputs": [],
   "source": [
    "def count_chars(string):\n",
    "    res = {}\n",
    "    for c in string:\n",
    "        if c not in res.keys():\n",
    "            res[c] = 1\n",
    "        else: res[c] += 1\n",
    "    return res"
   ]
  },
  {
   "cell_type": "code",
   "execution_count": 25,
   "id": "87d0bd1c-725e-407a-bc95-bb1b4e17bbc4",
   "metadata": {},
   "outputs": [
    {
     "data": {
      "text/plain": [
       "{'h': 1, 'a': 1, 'p': 2, 'i': 1, 'n': 1, 'e': 1, 's': 2}"
      ]
     },
     "execution_count": 25,
     "metadata": {},
     "output_type": "execute_result"
    }
   ],
   "source": [
    "count_chars(\"happiness\")"
   ]
  },
  {
   "cell_type": "code",
   "execution_count": 18,
   "id": "a9aaf6a2-27fa-4cb7-bf66-f9191712d9b6",
   "metadata": {},
   "outputs": [
    {
     "data": {
      "text/plain": [
       "{'s': 2, 'm': 1, 'i': 1, 'l': 1, 'e': 1}"
      ]
     },
     "execution_count": 18,
     "metadata": {},
     "output_type": "execute_result"
    }
   ],
   "source": [
    "count_chars(\"smiles\")"
   ]
  },
  {
   "cell_type": "code",
   "execution_count": 26,
   "id": "925c3c5f-3ea0-46c2-a76d-cc82ea9a6abb",
   "metadata": {},
   "outputs": [
    {
     "name": "stderr",
     "output_type": "stream",
     "text": [
      "Downloading...\n",
      "From: https://drive.google.com/uc?id=1IBScGdW2xlNsc9v5zSAya548kNgiOrko\n",
      "To: C:\\Users\\Lan Vi\\Downloads\\AIO_Exercises\\week2\\P1_data.txt\n",
      "\n",
      "  0%|          | 0.00/747 [00:00<?, ?B/s]\n",
      "100%|##########| 747/747 [00:00<?, ?B/s] \n"
     ]
    }
   ],
   "source": [
    "!gdown https://drive.google.com/uc?id=1IBScGdW2xlNsc9v5zSAya548kNgiOrko"
   ]
  },
  {
   "cell_type": "code",
   "execution_count": 37,
   "id": "bb43d47b-b509-43d1-bc3e-e9fea974f4db",
   "metadata": {},
   "outputs": [],
   "source": [
    "file_path = \"P1_data.txt\""
   ]
  },
  {
   "cell_type": "code",
   "execution_count": 43,
   "id": "b749bd95-201f-4bff-ad5c-ccb3097bee50",
   "metadata": {},
   "outputs": [
    {
     "data": {
      "text/plain": [
       "{'he': 1,\n",
       " 'who': 3,\n",
       " 'conquers': 1,\n",
       " 'himself': 1,\n",
       " 'is': 3,\n",
       " 'the': 5,\n",
       " 'mightiest': 1,\n",
       " 'warrior': 1,\n",
       " 'try': 2,\n",
       " 'not': 1,\n",
       " 'to': 3,\n",
       " 'become': 2,\n",
       " 'a': 7,\n",
       " 'man': 6,\n",
       " 'of': 4,\n",
       " 'success': 3,\n",
       " 'but': 1,\n",
       " 'rather': 1,\n",
       " 'value': 1,\n",
       " 'one': 4,\n",
       " 'with': 4,\n",
       " 'courage': 1,\n",
       " 'makes': 1,\n",
       " 'majority': 1,\n",
       " 'secret': 1,\n",
       " 'in': 4,\n",
       " 'life': 2,\n",
       " 'for': 3,\n",
       " 'be': 1,\n",
       " 'ready': 1,\n",
       " 'his': 2,\n",
       " 'opportunity': 1,\n",
       " 'when': 2,\n",
       " 'it': 2,\n",
       " 'comes': 2,\n",
       " 'successful': 2,\n",
       " 'will': 2,\n",
       " 'profit': 1,\n",
       " 'from': 1,\n",
       " 'mistakes': 1,\n",
       " 'and': 1,\n",
       " 'again': 1,\n",
       " 'different': 1,\n",
       " 'way': 1,\n",
       " 'can': 3,\n",
       " 'lay': 1,\n",
       " 'firm': 1,\n",
       " 'foundation': 1,\n",
       " 'bricks': 1,\n",
       " 'others': 1,\n",
       " 'have': 1,\n",
       " 'thrown': 1,\n",
       " 'at': 1,\n",
       " 'him': 1,\n",
       " 'usually': 1,\n",
       " 'those': 1,\n",
       " 'are': 1,\n",
       " 'too': 1,\n",
       " 'busy': 1,\n",
       " 'looking': 1,\n",
       " 'we': 3,\n",
       " 'cannot': 1,\n",
       " 'solve': 1,\n",
       " 'problems': 1,\n",
       " 'kind': 1,\n",
       " 'thinking': 1,\n",
       " 'employed': 1,\n",
       " 'came': 1,\n",
       " 'up': 1,\n",
       " 'them': 1,\n",
       " 'just': 2,\n",
       " 'small': 1,\n",
       " 'positive': 1,\n",
       " 'thought': 1,\n",
       " 'morning': 1,\n",
       " 'change': 1,\n",
       " 'your': 1,\n",
       " 'whole': 1,\n",
       " 'day': 1,\n",
       " 'you': 3,\n",
       " 'get': 2,\n",
       " 'everything': 1,\n",
       " 'want': 2,\n",
       " 'if': 1,\n",
       " 'help': 1,\n",
       " 'enough': 1,\n",
       " 'other': 1,\n",
       " 'people': 1,\n",
       " 'what': 1,\n",
       " 'they': 1}"
      ]
     },
     "execution_count": 43,
     "metadata": {},
     "output_type": "execute_result"
    }
   ],
   "source": [
    "def word_count(file_path):\n",
    "    res = {}\n",
    "    with open(file_path, \"r\") as f:\n",
    "        for line in f:\n",
    "            for word in line.split():\n",
    "                if word.lower() not in res:\n",
    "                    res[word.lower()] = 1\n",
    "                else: res[word.lower()] += 1\n",
    "        return res\n",
    "\n",
    "word_count(file_path)"
   ]
  },
  {
   "cell_type": "code",
   "execution_count": 72,
   "id": "847800f1-a845-4bc8-9219-d9752e109760",
   "metadata": {},
   "outputs": [
    {
     "data": {
      "text/plain": [
       "4.0"
      ]
     },
     "execution_count": 72,
     "metadata": {},
     "output_type": "execute_result"
    }
   ],
   "source": [
    "import numpy as np # type: ignore\n",
    "def levenshtein_distance(token1, token2):\n",
    "    num_rows = len(token1) + 1\n",
    "    num_cols = len(token2) + 1\n",
    "    D = np.zeros((num_rows, num_cols))\n",
    "    for i in range(num_rows): \n",
    "        D[i, 0] = i\n",
    "    for i in range(num_cols):\n",
    "        D[0, i] = i\n",
    "    for i in range(1, num_rows):\n",
    "        for j in range(1, num_cols):\n",
    "            D[i, j] = min(\n",
    "                D[i - 1, j] + 1,\n",
    "                D[i, j - 1] + 1,\n",
    "                D[i - 1, j - 1] + 1 if token1[i - 1] != token2[j - 1] else D[i - 1, j - 1]\n",
    "            )\n",
    "    return D[-1,-1]\n",
    "\n",
    "levenshtein_distance(\"hi\", \"hello\")"
   ]
  },
  {
   "cell_type": "code",
   "execution_count": 61,
   "id": "4e6d718f-33a4-4d57-9d9b-c1714bc4a4e2",
   "metadata": {},
   "outputs": [
    {
     "name": "stdout",
     "output_type": "stream",
     "text": [
      "[5, 5, 5, 5, 10, 12, 33, 33]\n"
     ]
    }
   ],
   "source": [
    "#II\n",
    "#1\n",
    "def max_kernel(num_list, k):\n",
    "    result = []\n",
    "    for i in range(len(num_list) - k + 1):\n",
    "        result.append(max(num_list[i:i+k]))\n",
    "    return result\n",
    "    \n",
    "assert max_kernel ([3 , 4 , 5 , 1 , -44] , 3) == [5 , 5 , 5]\n",
    "num_list = [3 , 4 , 5 , 1 , -44 , 5 ,10 , 12 ,33 , 1]\n",
    "k = 3\n",
    "print(max_kernel( num_list ,k))"
   ]
  },
  {
   "cell_type": "code",
   "execution_count": 63,
   "id": "3f71c46a-0890-47da-9dc0-bca39ed2eff6",
   "metadata": {},
   "outputs": [
    {
     "name": "stdout",
     "output_type": "stream",
     "text": [
      "{'s': 2, 'm': 1, 'i': 1, 'l': 1, 'e': 1}\n"
     ]
    }
   ],
   "source": [
    "def character_count(word):\n",
    "    character_statistic = {}\n",
    "    for c in word:\n",
    "        if c not in character_statistic.keys():\n",
    "            character_statistic[c] = 1\n",
    "        else: character_statistic[c] += 1\n",
    "    return character_statistic\n",
    "assert character_count (\"Baby\") == {'B': 1 , 'a': 1 , 'b': 1 , 'y': 1}\n",
    "print ( character_count (\"smiles\") )"
   ]
  },
  {
   "cell_type": "code",
   "execution_count": 64,
   "id": "bbe5b6d3-03e2-4a49-a2bc-dec893750544",
   "metadata": {},
   "outputs": [
    {
     "name": "stdout",
     "output_type": "stream",
     "text": [
      "6\n"
     ]
    }
   ],
   "source": [
    "def count_word(file_path):\n",
    "    counter = {}\n",
    "    with open(file_path, \"r\") as f:\n",
    "        for line in f:\n",
    "            for word in line.split():\n",
    "                if word.lower() not in counter:\n",
    "                    counter[word.lower()] = 1\n",
    "                else: counter[word.lower()] += 1\n",
    "        return counter\n",
    "file_path = \"P1_data.txt\"\n",
    "result = count_word ( file_path )\n",
    "assert result ['who'] == 3\n",
    "print ( result ['man'])"
   ]
  },
  {
   "cell_type": "code",
   "execution_count": 74,
   "id": "5bd7e637-b57a-4c3a-8f31-15b9d695b564",
   "metadata": {},
   "outputs": [
    {
     "name": "stdout",
     "output_type": "stream",
     "text": [
      "3.0\n"
     ]
    }
   ],
   "source": [
    "def levenshtein_distance(token1, token2):\n",
    "    num_rows = len(token1) + 1\n",
    "    num_cols = len(token2) + 1\n",
    "    D = np.zeros((num_rows, num_cols))\n",
    "    for i in range(num_rows): \n",
    "        D[i, 0] = i\n",
    "    for i in range(num_cols):\n",
    "        D[0, i] = i\n",
    "    for i in range(1, num_rows):\n",
    "        for j in range(1, num_cols):\n",
    "            D[i, j] = min(\n",
    "                D[i - 1, j] + 1,\n",
    "                D[i, j - 1] + 1,\n",
    "                D[i - 1, j - 1] + 1 if token1[i - 1] != token2[j - 1] else D[i - 1, j - 1]\n",
    "            )\n",
    "    return D[-1,-1]\n",
    "assert np.isclose(levenshtein_distance (\"hi\", \"hello\"), 4.0, rtol=1e-09, atol=1e-09)\n",
    "print ( levenshtein_distance (\"hola\", \"hello\") )"
   ]
  },
  {
   "cell_type": "code",
   "execution_count": 85,
   "id": "7fa330b3-e674-48a8-926c-7f2d180eed9f",
   "metadata": {},
   "outputs": [
    {
     "name": "stdout",
     "output_type": "stream",
     "text": [
      "True\n"
     ]
    }
   ],
   "source": [
    "def check_the_number( n ) :\n",
    "    list_of_numbers = []\n",
    "    results = \"\"\n",
    "    for i in range (1 , 5) :\n",
    "        list_of_numbers.append(i)\n",
    "    if n in list_of_numbers :\n",
    "        results = \"True\"\n",
    "    if n not in list_of_numbers :\n",
    "        results = \"False\"\n",
    "    return results\n",
    "N = 7\n",
    "assert check_the_number(N) == \"False\"\n",
    "N = 2\n",
    "results = check_the_number(N)\n",
    "print (results)"
   ]
  },
  {
   "cell_type": "code",
   "execution_count": 86,
   "id": "0c1d14f3-6cb0-4aff-af16-907e2858fe22",
   "metadata": {},
   "outputs": [
    {
     "name": "stdout",
     "output_type": "stream",
     "text": [
      "[2, 2, 2, 1, 1]\n"
     ]
    }
   ],
   "source": [
    "def my_function ( data , max , min) :\n",
    "    result = []\n",
    "    for i in data:\n",
    "        if i < min:\n",
    "            result.append(min)\n",
    "        elif i > max :\n",
    "            result.append(max)\n",
    "        else :\n",
    "            result.append (i)\n",
    "    return result\n",
    "\n",
    "my_list = [5 , 2 , 5 , 0 , 1]\n",
    "max = 1\n",
    "min = 0\n",
    "assert my_function (max = max , min = min , data = my_list ) == [1 , 1 , 1 , 0 , 1]\n",
    "my_list = [10 , 2 , 5 , 0 , 1]\n",
    "max = 2\n",
    "min = 1\n",
    "print ( my_function (max = max , min = min , data = my_list ) )"
   ]
  },
  {
   "cell_type": "code",
   "execution_count": 91,
   "id": "33454886-978d-4461-840b-25ed8834ae52",
   "metadata": {},
   "outputs": [
    {
     "name": "stdout",
     "output_type": "stream",
     "text": [
      "[1, 2, 3, 4, 0, 0]\n"
     ]
    }
   ],
   "source": [
    "def my_function (x , y ) :\n",
    "    x.extend(y)\n",
    "    return x\n",
    "\n",
    "list_num1 = ['a', 2 , 5]\n",
    "list_num2 = [1 , 1]\n",
    "list_num3 = [0 , 0]\n",
    "assert my_function ( list_num1 , my_function ( list_num2 , list_num3 ) ) == ['a', 2 , 5 , 1 , 1 , 0 , 0]\n",
    "list_num1 = [1 , 2]\n",
    "list_num2 = [3 , 4]\n",
    "list_num3 = [0 , 0]\n",
    "print ( my_function ( list_num1 , my_function ( list_num2 , list_num3 ) ) )\n"
   ]
  },
  {
   "cell_type": "code",
   "execution_count": 105,
   "id": "0ad791e5-f360-48f1-9019-cc6cdefbcc96",
   "metadata": {},
   "outputs": [
    {
     "name": "stdout",
     "output_type": "stream",
     "text": [
      "-1\n"
     ]
    }
   ],
   "source": [
    "\n",
    "def my_function (n) :\n",
    "    return min(n)\n",
    "    \n",
    "my_list = [1 , 22 , 93 , -100]\n",
    "assert my_function( my_list ) == -100\n",
    "my_list = [1 , 2 , 3 , -1]\n",
    "print ( my_function ( my_list ) )"
   ]
  },
  {
   "cell_type": "code",
   "execution_count": 108,
   "id": "ccad2c8d-7452-4242-9ff0-575aa54a893c",
   "metadata": {},
   "outputs": [
    {
     "name": "stdout",
     "output_type": "stream",
     "text": [
      "9\n"
     ]
    }
   ],
   "source": [
    "del max\n",
    "def my_function ( n ) :\n",
    "    return max(n)\n",
    "my_list = [1001 , 9 , 100 , 0]\n",
    "assert my_function ( my_list ) == 1001\n",
    "my_list = [1 , 9 , 9 , 0]\n",
    "print ( my_function ( my_list ) )\n"
   ]
  },
  {
   "cell_type": "code",
   "execution_count": 109,
   "id": "5bfd9d0d-651d-4c56-b0ae-6939b228dd5c",
   "metadata": {},
   "outputs": [
    {
     "name": "stdout",
     "output_type": "stream",
     "text": [
      "True\n"
     ]
    }
   ],
   "source": [
    "def my_function ( integers , number = 1) :\n",
    "    return any([True if i == number else False for i in integers])\n",
    "\n",
    "my_list = [1 , 3 , 9 , 4]\n",
    "assert my_function ( my_list , -1) == False\n",
    "\n",
    "my_list = [1 , 2 , 3 , 4]\n",
    "print ( my_function ( my_list , 2) )\n"
   ]
  },
  {
   "cell_type": "code",
   "execution_count": 110,
   "id": "5a2c4279-1b63-49ad-ac48-a2a077cf36e1",
   "metadata": {},
   "outputs": [
    {
     "name": "stdout",
     "output_type": "stream",
     "text": [
      "1.0\n"
     ]
    }
   ],
   "source": [
    "def my_function ( list_nums = [0 , 1 , 2]) :\n",
    "    var = 0\n",
    "    for i in list_nums :\n",
    "        var += i\n",
    "    return var / len(list_nums)\n",
    "\n",
    "assert my_function ([4 , 6 , 8]) == 6\n",
    "print ( my_function () )"
   ]
  },
  {
   "cell_type": "code",
   "execution_count": 111,
   "id": "9751ef52-1fed-40d1-9a60-2a2196985d63",
   "metadata": {},
   "outputs": [
    {
     "name": "stdout",
     "output_type": "stream",
     "text": [
      "[3, 6]\n"
     ]
    }
   ],
   "source": [
    "def my_function ( data ) :\n",
    "    var = []\n",
    "    for i in data :\n",
    "        if i % 3 == 0:\n",
    "            var.append(i)\n",
    "    return var\n",
    "\n",
    "assert my_function ([3 , 9 , 4 , 5]) == [3 , 9]\n",
    "print ( my_function ([1 , 2 , 3 , 5 , 6]) )"
   ]
  },
  {
   "cell_type": "code",
   "execution_count": 112,
   "id": "6fa8ae9a-b141-4c19-9ee6-f89b90927464",
   "metadata": {},
   "outputs": [
    {
     "name": "stdout",
     "output_type": "stream",
     "text": [
      "24\n"
     ]
    }
   ],
   "source": [
    "def my_function(y):\n",
    "    var = 1\n",
    "    while (y > 1):\n",
    "        var *= y\n",
    "        y -= 1\n",
    "    return var\n",
    "assert my_function (8) == 40320\n",
    "print ( my_function (4) )"
   ]
  },
  {
   "cell_type": "code",
   "execution_count": 114,
   "id": "b14f04e1-6a2b-4ce5-b88a-48951e8b9f90",
   "metadata": {},
   "outputs": [
    {
     "name": "stdout",
     "output_type": "stream",
     "text": [
      "tocirpa\n"
     ]
    }
   ],
   "source": [
    "def my_function ( x ) :\n",
    "    return x[::-1]\n",
    "\n",
    "x = \"I can do it\"\n",
    "assert my_function (x ) ==\"ti od nac I\"\n",
    "x = \"apricot\"\n",
    "print ( my_function ( x ) )\n"
   ]
  },
  {
   "cell_type": "code",
   "execution_count": 118,
   "id": "63823bdb-6455-48c8-b6ba-8015788698d7",
   "metadata": {},
   "outputs": [
    {
     "name": "stdout",
     "output_type": "stream",
     "text": [
      "['T', 'T', 'T', 'N']\n"
     ]
    }
   ],
   "source": [
    "def function_helper ( x ) :\n",
    "    return \"T\" if x > 0 else \"N\"\n",
    "\n",
    "def my_function ( data ) :\n",
    "    res = [ function_helper ( x ) for x in data ]\n",
    "    return res\n",
    "\n",
    "data = [10 , 0 , -10 , -1]\n",
    "assert my_function ( data ) == [\"T\", \"N\", \"N\", \"N\"]\n",
    "data = [2 , 3 , 5 , -1]\n",
    "print ( my_function ( data ) )\n"
   ]
  },
  {
   "cell_type": "code",
   "execution_count": 120,
   "id": "c0ee03c5-0a94-458b-9948-67e20220ab89",
   "metadata": {},
   "outputs": [
    {
     "name": "stdout",
     "output_type": "stream",
     "text": [
      "[9, 8, 1]\n"
     ]
    }
   ],
   "source": [
    "def function_helper (x , data ) :\n",
    "    for i in data :\n",
    "        if x == i: return 0\n",
    "    return 1\n",
    "\n",
    "def my_function ( data ) :\n",
    "    res = []\n",
    "    for i in data :\n",
    "        if function_helper (i , res ) :\n",
    "            res.append ( i )\n",
    "\n",
    "    return res\n",
    "\n",
    "lst = [10 , 10 , 9 , 7 , 7]\n",
    "assert my_function ( lst ) ==[10 , 9 , 7]\n",
    "lst = [9 , 9 , 8 , 1 , 1]\n",
    "print ( my_function ( lst )) "
   ]
  },
  {
   "cell_type": "code",
   "execution_count": null,
   "id": "28d5663e-edfb-4243-9c7a-9ff47138b916",
   "metadata": {},
   "outputs": [],
   "source": []
  },
  {
   "cell_type": "code",
   "execution_count": null,
   "id": "f2f59019-ae10-44f9-9271-bad3cbdee42d",
   "metadata": {},
   "outputs": [],
   "source": []
  },
  {
   "cell_type": "code",
   "execution_count": null,
   "id": "44f90f16-aca1-4959-a03a-688865bb8656",
   "metadata": {},
   "outputs": [],
   "source": []
  },
  {
   "cell_type": "code",
   "execution_count": null,
   "id": "7a7f6d7e-d084-428b-a986-b1ff2d8e9157",
   "metadata": {},
   "outputs": [],
   "source": []
  },
  {
   "cell_type": "code",
   "execution_count": null,
   "id": "1ccd96f4-da0d-4edb-ae6f-f1cc5d156557",
   "metadata": {},
   "outputs": [],
   "source": []
  },
  {
   "cell_type": "code",
   "execution_count": null,
   "id": "5ad6c80f-feb3-42ed-b0b7-6a8c30de7bc0",
   "metadata": {},
   "outputs": [],
   "source": []
  }
 ],
 "metadata": {
  "kernelspec": {
   "display_name": "Python 3 (ipykernel)",
   "language": "python",
   "name": "python3"
  },
  "language_info": {
   "codemirror_mode": {
    "name": "ipython",
    "version": 3
   },
   "file_extension": ".py",
   "mimetype": "text/x-python",
   "name": "python",
   "nbconvert_exporter": "python",
   "pygments_lexer": "ipython3",
   "version": "3.10.14"
  }
 },
 "nbformat": 4,
 "nbformat_minor": 5
}
