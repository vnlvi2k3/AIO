{
  "nbformat": 4,
  "nbformat_minor": 0,
  "metadata": {
    "colab": {
      "provenance": []
    },
    "kernelspec": {
      "name": "python3",
      "display_name": "Python 3"
    },
    "language_info": {
      "name": "python"
    }
  },
  "cells": [
    {
      "cell_type": "code",
      "execution_count": 20,
      "metadata": {
        "id": "9Lo0dCCjfzfM"
      },
      "outputs": [],
      "source": [
        "import time\n",
        "def mul1(size=10000000):\n",
        "  list1, list2 = list(range(size)), list(range(size))\n",
        "  init_time = time.time()\n",
        "  res = [x * y for x, y in zip(list1, list2)]\n",
        "  return time.time() - init_time"
      ]
    },
    {
      "cell_type": "code",
      "source": [
        "import numpy as np\n",
        "def mul2(size=10000000):\n",
        "  array1, array2 = np.arange(size), np.arange(size)\n",
        "  init_time = time.time()\n",
        "  res = array1 * array2\n",
        "  return time.time() - init_time"
      ],
      "metadata": {
        "id": "05_dNcBUj-Dv"
      },
      "execution_count": 19,
      "outputs": []
    },
    {
      "cell_type": "code",
      "source": [
        "mul1()"
      ],
      "metadata": {
        "colab": {
          "base_uri": "https://localhost:8080/"
        },
        "id": "EjB8sbhhkQYP",
        "outputId": "1243f6f4-2247-4975-d0af-09c43d7f4b55"
      },
      "execution_count": 21,
      "outputs": [
        {
          "output_type": "execute_result",
          "data": {
            "text/plain": [
              "2.033611536026001"
            ]
          },
          "metadata": {},
          "execution_count": 21
        }
      ]
    },
    {
      "cell_type": "code",
      "source": [
        "mul2()"
      ],
      "metadata": {
        "colab": {
          "base_uri": "https://localhost:8080/"
        },
        "id": "GSsQnFH-kRZi",
        "outputId": "3ebb5a1c-37d2-4c98-9a50-c10f16bfa820"
      },
      "execution_count": 22,
      "outputs": [
        {
          "output_type": "execute_result",
          "data": {
            "text/plain": [
              "0.056636810302734375"
            ]
          },
          "metadata": {},
          "execution_count": 22
        }
      ]
    },
    {
      "cell_type": "code",
      "source": [
        "type(range(1000))"
      ],
      "metadata": {
        "colab": {
          "base_uri": "https://localhost:8080/"
        },
        "id": "Sm_iRmTLf26c",
        "outputId": "e731a8db-2f8c-4f77-a39d-058c3fab7f99"
      },
      "execution_count": 17,
      "outputs": [
        {
          "output_type": "execute_result",
          "data": {
            "text/plain": [
              "range"
            ]
          },
          "metadata": {},
          "execution_count": 17
        }
      ]
    },
    {
      "cell_type": "code",
      "source": [
        "def matrix_mul(a, b):\n",
        "  rows_a, cols_a = len(a), len(a[0])\n",
        "  rows_b, cols_b = len(b), len(b[0])\n",
        "  assert cols_a == rows_b, '''Number of cols A must be equal to number of rows b'''\n",
        "  result = [[0 for _ in range(cols_b)] for _ in range(rows_a)]\n",
        "  for i in range(rows_a):\n",
        "    for j in range(cols_b):\n",
        "      for k in range(cols_a):\n",
        "        result[i][j] += a[i][k] * b[k][j]\n",
        "  return result"
      ],
      "metadata": {
        "id": "FaLM9WWDf2_r"
      },
      "execution_count": 25,
      "outputs": []
    },
    {
      "cell_type": "code",
      "source": [
        "A = [[1, 2, 3], [4, 5, 6]]\n",
        "B = [[1, 2], [3, 4], [5, 6]]\n",
        "matrix_mul(A, B)"
      ],
      "metadata": {
        "colab": {
          "base_uri": "https://localhost:8080/"
        },
        "id": "NuqEwRIBf3Ck",
        "outputId": "725038bf-78ac-42fd-cafe-742d9f24dc97"
      },
      "execution_count": 26,
      "outputs": [
        {
          "output_type": "execute_result",
          "data": {
            "text/plain": [
              "[[22, 28], [49, 64]]"
            ]
          },
          "metadata": {},
          "execution_count": 26
        }
      ]
    },
    {
      "cell_type": "code",
      "source": [
        "a = np.array(A)\n",
        "b = np.array(B)\n",
        "np.dot(a, b)"
      ],
      "metadata": {
        "colab": {
          "base_uri": "https://localhost:8080/"
        },
        "id": "770nrpAof3FA",
        "outputId": "64ee6ed3-5627-48aa-d13c-a8961fdf947d"
      },
      "execution_count": 27,
      "outputs": [
        {
          "output_type": "execute_result",
          "data": {
            "text/plain": [
              "array([[22, 28],\n",
              "       [49, 64]])"
            ]
          },
          "metadata": {},
          "execution_count": 27
        }
      ]
    },
    {
      "cell_type": "code",
      "source": [
        "def computeIOU(boxA, boxB):\n",
        "  xA = max(boxA[0], boxB[0])\n",
        "  yA = max(boxA[1], boxB[1])\n",
        "  xB = min(boxA[2], boxB[2])\n",
        "  yB = min(boxA[3], boxB[3])\n",
        "\n",
        "  interArea = max(0, xB - xA + 1) * max(0, yB - yA + 1)\n",
        "  areaA = (boxA[2] - boxA[0] + 1) * (boxA[3] - boxA[1] + 1)\n",
        "  areaB = (boxB[2] - boxB[0] + 1) * (boxB[3] - boxB[1] + 1)\n",
        "  iou = interArea / float(areaA + areaB - interArea)\n",
        "  return iou"
      ],
      "metadata": {
        "id": "3S7hNP-Ef3HG"
      },
      "execution_count": 28,
      "outputs": []
    },
    {
      "cell_type": "code",
      "source": [
        "boxA = [0, 0, 100, 100]\n",
        "boxB = [50, 50, 150, 150]\n",
        "computeIOU(boxA, boxB)"
      ],
      "metadata": {
        "colab": {
          "base_uri": "https://localhost:8080/"
        },
        "id": "UvlWTYrvf3Jt",
        "outputId": "b020b660-bdc6-4767-e1a2-874ea40ca80e"
      },
      "execution_count": 29,
      "outputs": [
        {
          "output_type": "execute_result",
          "data": {
            "text/plain": [
              "0.14611538677602381"
            ]
          },
          "metadata": {},
          "execution_count": 29
        }
      ]
    },
    {
      "cell_type": "code",
      "source": [
        "def non_max_suppression(boxes, scores, threshold):\n",
        "  sorted_indices = sorted(range(len(scores)), key=lambda x: scores[x], reverse=True)\n",
        "  keep_indices = []\n",
        "  while sorted_indices:\n",
        "    max_index = sorted_indices.pop(0)\n",
        "    keep_indices.append(max_index)\n",
        "    for i in sorted_indices:\n",
        "      iou = computeIOU(boxes[max_index], boxes[i])\n",
        "      if iou > threshold:\n",
        "        sorted_indices.remove(i)\n",
        "  return keep_indices"
      ],
      "metadata": {
        "id": "mRFBjLr8f3ML"
      },
      "execution_count": 31,
      "outputs": []
    },
    {
      "cell_type": "code",
      "source": [
        "dataset = np.array(['Ho Chi Minh',\n",
        "                    'Da Nang', 'Ha Noi',\n",
        "                    'Can Tho', 'Ha Noi'])\n",
        "unique_cat = sorted(list(set(dataset)))\n",
        "category_to_index = {\n",
        "    category: index for index, category in enumerate(unique_cat)\n",
        "}\n",
        "one_hot_features = []\n",
        "for data in dataset:\n",
        "  one_hot_features.append(\n",
        "      np.eye(len(unique_cat))[category_to_index[data]]\n",
        "  )\n",
        "\n",
        "one_hot_features, dataset"
      ],
      "metadata": {
        "colab": {
          "base_uri": "https://localhost:8080/"
        },
        "id": "rr5P9vwGf3O3",
        "outputId": "3011a5a1-23b3-4916-e247-4fd276316a99"
      },
      "execution_count": 37,
      "outputs": [
        {
          "output_type": "execute_result",
          "data": {
            "text/plain": [
              "([array([0., 0., 0., 1.]),\n",
              "  array([0., 1., 0., 0.]),\n",
              "  array([0., 0., 1., 0.]),\n",
              "  array([1., 0., 0., 0.]),\n",
              "  array([0., 0., 1., 0.])],\n",
              " array(['Ho Chi Minh', 'Da Nang', 'Ha Noi', 'Can Tho', 'Ha Noi'],\n",
              "       dtype='<U11'))"
            ]
          },
          "metadata": {},
          "execution_count": 37
        }
      ]
    },
    {
      "cell_type": "code",
      "source": [
        "class Node:\n",
        "  def __init__(self, point, left=None, right=None):\n",
        "    self.point = point\n",
        "    self.left = left\n",
        "    self.right = right"
      ],
      "metadata": {
        "id": "3MF5fN91f3Q0"
      },
      "execution_count": 38,
      "outputs": []
    },
    {
      "cell_type": "code",
      "source": [
        "def build_kd_tree(points, depth=0):\n",
        "  if not points:\n",
        "    return None\n",
        "\n",
        "  k = len(points[0])\n",
        "  axis = depth % k\n",
        "\n",
        "  print(f\"axis: {axis}\")\n",
        "  points.sort(key=lambda x: x[axis])\n",
        "  median = len(points) // 2\n",
        "  print(f\"median: {median}\")\n",
        "  print(f\"point: {points[median]}\")\n",
        "  print(\"_______________________________\")\n",
        "  return Node(\n",
        "      point=points[median],\n",
        "      left=build_kd_tree(points[:median], depth + 1),\n",
        "      right=build_kd_tree(points[median + 1:], depth + 1)\n",
        "  )"
      ],
      "metadata": {
        "id": "EyXYViPGf3Tb"
      },
      "execution_count": 47,
      "outputs": []
    },
    {
      "cell_type": "code",
      "source": [
        "points = [(2, 3), (5, 4), (9, 6), (4, 7), (8, 1), (7, 2)]\n",
        "root = build_kd_tree(points)"
      ],
      "metadata": {
        "colab": {
          "base_uri": "https://localhost:8080/"
        },
        "id": "Zp8AG0Dtf3V5",
        "outputId": "df36f337-74f9-4119-a74f-6661ef5f2439"
      },
      "execution_count": 48,
      "outputs": [
        {
          "output_type": "stream",
          "name": "stdout",
          "text": [
            "axis: 0\n",
            "median: 3\n",
            "point: (7, 2)\n",
            "_______________________________\n",
            "axis: 1\n",
            "median: 1\n",
            "point: (5, 4)\n",
            "_______________________________\n",
            "axis: 0\n",
            "median: 0\n",
            "point: (2, 3)\n",
            "_______________________________\n",
            "axis: 0\n",
            "median: 0\n",
            "point: (4, 7)\n",
            "_______________________________\n",
            "axis: 1\n",
            "median: 1\n",
            "point: (9, 6)\n",
            "_______________________________\n",
            "axis: 0\n",
            "median: 0\n",
            "point: (8, 1)\n",
            "_______________________________\n"
          ]
        }
      ]
    },
    {
      "cell_type": "code",
      "source": [
        "def square_distance(a, b):\n",
        "  return sum((x - y) ** 2 for x, y in zip(a, b))**0.5"
      ],
      "metadata": {
        "id": "LjUAG8n9Sdim"
      },
      "execution_count": 66,
      "outputs": []
    },
    {
      "cell_type": "code",
      "source": [
        "def closer_point(new_data, nearest_node, root_node):\n",
        "  if not nearest_node: return root_node\n",
        "  if not root_node: return nearest_node\n",
        "  if square_distance(new_data, nearest_node) > square_distance(new_data, root_node):\n",
        "    return root_node\n",
        "  return nearest_node"
      ],
      "metadata": {
        "id": "bDc9EWNgP5Sx"
      },
      "execution_count": 67,
      "outputs": []
    },
    {
      "cell_type": "code",
      "source": [
        "def nearest_neighbor(node, point, depth=0, best=None):\n",
        "  if not node: return best\n",
        "\n",
        "  k = len(point)\n",
        "  axis = depth % k\n",
        "\n",
        "  next_branch, oposite_branch = None, None\n",
        "  if point[axis] < node.point[axis]:\n",
        "    next_branch, oposite_branch = node.left, node.right\n",
        "  else:\n",
        "    next_branch, oposite_branch = node.right, node.left\n",
        "  best = closer_point(point, nearest_neighbor(next_branch, point, depth + 1, best), node.point)\n",
        "\n",
        "  if (point[axis] - node.point[axis]) ** 2 < square_distance(point, best):\n",
        "    best = closer_point(point, nearest_neighbor(oposite_branch, point, depth + 1, best), node.point)\n",
        "  return best\n"
      ],
      "metadata": {
        "id": "-tYY_jPoOa9v"
      },
      "execution_count": 70,
      "outputs": []
    },
    {
      "cell_type": "code",
      "source": [
        "point = (6, 3.4)\n",
        "nearest_neighbor(root, point)"
      ],
      "metadata": {
        "colab": {
          "base_uri": "https://localhost:8080/"
        },
        "id": "SlIR4CKQOp4r",
        "outputId": "6ab9caed-14a5-45ff-aaef-638ad2b16232"
      },
      "execution_count": 71,
      "outputs": [
        {
          "output_type": "execute_result",
          "data": {
            "text/plain": [
              "(5, 4)"
            ]
          },
          "metadata": {},
          "execution_count": 71
        }
      ]
    },
    {
      "cell_type": "code",
      "source": [],
      "metadata": {
        "id": "00RtSYTuOp7M"
      },
      "execution_count": 48,
      "outputs": []
    },
    {
      "cell_type": "code",
      "source": [],
      "metadata": {
        "id": "84aS5GyvOp9i"
      },
      "execution_count": 48,
      "outputs": []
    },
    {
      "cell_type": "code",
      "source": [],
      "metadata": {
        "id": "Y9BU8EOQOp_v"
      },
      "execution_count": 48,
      "outputs": []
    },
    {
      "cell_type": "code",
      "source": [],
      "metadata": {
        "id": "Hf3BVeucOqCf"
      },
      "execution_count": null,
      "outputs": []
    }
  ]
}