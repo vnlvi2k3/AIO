{
 "cells": [
  {
   "cell_type": "code",
   "execution_count": 40,
   "id": "3bf2e8c0-0f44-458e-96cb-69cdcee47403",
   "metadata": {},
   "outputs": [
    {
     "name": "stdout",
     "output_type": "stream",
     "text": [
      "precision is 0.4\n",
      "recall is 0.3333333333333333\n",
      "f1-score is 0.3636363636363636\n"
     ]
    }
   ],
   "source": [
    "import numpy as np # type: ignore\n",
    "def call_metrics(tp, fp, fn):\n",
    "    if not isinstance(tp, int):\n",
    "        print(\"tp must be int\")\n",
    "        return \n",
    "    if not isinstance(fp, int):\n",
    "        print(\"fp must be int\")\n",
    "        return\n",
    "    if not isinstance(fn, int):\n",
    "        print(\"fn must be int\")\n",
    "        return\n",
    "    if tp <= 0 or fp <= 0 or fn <= 0:\n",
    "        print(\"tp and fp and fn must be greater than zero\")\n",
    "        return\n",
    "    precision = tp / (tp + fp)\n",
    "    recall = tp / (tp + fn)\n",
    "    f1 = 2*precision*recall/(precision + recall)\n",
    "    print(f\"precision is {precision}\")\n",
    "    print(f\"recall is {recall}\")\n",
    "    print(f\"f1-score is {f1}\")\n",
    "call_metrics(2, 3, 4)"
   ]
  },
  {
   "cell_type": "code",
   "execution_count": 16,
   "id": "d097cc47-5d62-40ce-9c6b-d807fe580b88",
   "metadata": {},
   "outputs": [
    {
     "name": "stdout",
     "output_type": "stream",
     "text": [
      "tp must be int\n"
     ]
    }
   ],
   "source": [
    "call_metrics('a', 3, 4)"
   ]
  },
  {
   "cell_type": "code",
   "execution_count": 17,
   "id": "014f7b9a-d404-46cf-a916-9bb7872074ee",
   "metadata": {},
   "outputs": [
    {
     "name": "stdout",
     "output_type": "stream",
     "text": [
      "fp must be int\n"
     ]
    }
   ],
   "source": [
    "call_metrics(2, 'a', 4)"
   ]
  },
  {
   "cell_type": "code",
   "execution_count": 18,
   "id": "81d58eae-f8b8-4587-a296-5f5a0e727810",
   "metadata": {},
   "outputs": [
    {
     "name": "stdout",
     "output_type": "stream",
     "text": [
      "fn must be int\n"
     ]
    }
   ],
   "source": [
    "call_metrics(2, 3, 'a')"
   ]
  },
  {
   "cell_type": "code",
   "execution_count": 19,
   "id": "a0b6ded0-01ee-4481-bcc0-7237a56de449",
   "metadata": {},
   "outputs": [
    {
     "name": "stdout",
     "output_type": "stream",
     "text": [
      "tp must be int\n"
     ]
    }
   ],
   "source": [
    "call_metrics(2.1, 3, 4)"
   ]
  },
  {
   "cell_type": "code",
   "execution_count": 20,
   "id": "90932521-9f78-470d-aaef-e855f18f4e3a",
   "metadata": {},
   "outputs": [
    {
     "name": "stdout",
     "output_type": "stream",
     "text": [
      "tp and fp and fn must be greater than zero\n"
     ]
    }
   ],
   "source": [
    "call_metrics(0, 3, 4)"
   ]
  },
  {
   "cell_type": "code",
   "execution_count": null,
   "id": "f6dd54b7-54c6-46a8-925c-894582626514",
   "metadata": {},
   "outputs": [],
   "source": []
  },
  {
   "cell_type": "code",
   "execution_count": 37,
   "id": "1dc1f1a7-689d-4e37-bc0f-c43f0c27f9c5",
   "metadata": {},
   "outputs": [],
   "source": [
    "import math\n",
    "def is_number(x):\n",
    "    try:\n",
    "        float(x)\n",
    "    except ValueError:\n",
    "        return False\n",
    "    return True\n",
    "\n",
    "def activation_func():\n",
    "    x = input(\"Input x = \")\n",
    "    if not is_number(x): \n",
    "        print(\"x must be a number\")\n",
    "        return \n",
    "    x = float(x)\n",
    "    typ = input(\"Input activation Function (sigmoid | relu | elu): \")\n",
    "    res = None\n",
    "    if typ == \"relu\":\n",
    "        res = x if x >= 0 else 0\n",
    "    elif typ == \"sigmoid\":\n",
    "        res = 1 / (1 + math.exp(-x))\n",
    "    elif typ == \"elu\":\n",
    "        alpha = 0.01\n",
    "        res = x if x >0 else alpha * (math.exp(x) - 1)\n",
    "    else:\n",
    "        print(f\"{typ} is not supported\")\n",
    "        return\n",
    "    print(f\"{typ}: f({x}) = {res}\")\n",
    "        "
   ]
  },
  {
   "cell_type": "code",
   "execution_count": 38,
   "id": "f011f51a-fc16-415f-b38d-6711bbfca577",
   "metadata": {},
   "outputs": [
    {
     "name": "stdout",
     "output_type": "stream",
     "text": [
      "Input x =  1.5\n",
      "Input activation Function (sigmoid | relu | elu):  sigmoid\n"
     ]
    },
    {
     "name": "stdout",
     "output_type": "stream",
     "text": [
      "sigmoid: f(1.5) = 0.8175744761936437\n"
     ]
    }
   ],
   "source": [
    "activation_func()"
   ]
  },
  {
   "cell_type": "code",
   "execution_count": 35,
   "id": "6491b504-a4e0-43f5-acb7-5dbfd37db06c",
   "metadata": {},
   "outputs": [
    {
     "name": "stdout",
     "output_type": "stream",
     "text": [
      "Input x =  1.5\n",
      "Input activation Function (sigmoid | relu | elu):  belu\n"
     ]
    },
    {
     "name": "stdout",
     "output_type": "stream",
     "text": [
      "belu is not supported\n"
     ]
    }
   ],
   "source": [
    "activation_func()"
   ]
  },
  {
   "cell_type": "code",
   "execution_count": 39,
   "id": "54ba7504-73b2-4213-8d80-8d160e88cad2",
   "metadata": {},
   "outputs": [
    {
     "name": "stdout",
     "output_type": "stream",
     "text": [
      "Input x =  abc\n"
     ]
    },
    {
     "name": "stdout",
     "output_type": "stream",
     "text": [
      "x must be a number\n"
     ]
    }
   ],
   "source": [
    "activation_func()"
   ]
  },
  {
   "cell_type": "code",
   "execution_count": null,
   "id": "40269f69-8d51-47c6-b4e0-ec2bf70a3115",
   "metadata": {},
   "outputs": [],
   "source": []
  },
  {
   "cell_type": "code",
   "execution_count": 61,
   "id": "a649b772-9735-44f8-a068-4d3832aa2ac0",
   "metadata": {},
   "outputs": [],
   "source": [
    "import random\n",
    "import math\n",
    "def loss_func():\n",
    "    num_samples = input(\"Input number of samples (integer number) which are generated: \")\n",
    "    if not num_samples.isnumeric():\n",
    "        print(\"number of samples must be an integer number\")\n",
    "        return \n",
    "    num_samples = int(num_samples)\n",
    "    loss_name = input(\"Input loss name: \")\n",
    "    _sum = 0\n",
    "    for i in range(num_samples):\n",
    "        predict = random.uniform(0, 10)\n",
    "        target = random.uniform(0, 10)\n",
    "        if loss_name == \"MAE\":\n",
    "            diff = abs(predict - target)\n",
    "        else:\n",
    "            diff = (predict - target)**2\n",
    "        _sum += diff\n",
    "        print(f\"loss name: {loss_name}, sample: {i}, pred: {predict} target: {target}, loss: {diff}\")\n",
    "\n",
    "    final_loss = math.sqrt(_sum / num_samples) if loss_name == \"RMSE\" else _sum / num_samples\n",
    "    print(f\"final {loss_name}: {final_loss}\")\n"
   ]
  },
  {
   "cell_type": "code",
   "execution_count": 59,
   "id": "24f7a78f-6c50-47dd-b625-841ef1dbc510",
   "metadata": {},
   "outputs": [
    {
     "name": "stdout",
     "output_type": "stream",
     "text": [
      "Input number of samples (integer number) which are generated:  AA\n"
     ]
    },
    {
     "name": "stdout",
     "output_type": "stream",
     "text": [
      "number of samples must be an integer number\n"
     ]
    }
   ],
   "source": [
    "loss_func()"
   ]
  },
  {
   "cell_type": "code",
   "execution_count": 63,
   "id": "b5ce1504-eefb-427f-8913-744175dd3036",
   "metadata": {},
   "outputs": [
    {
     "name": "stdout",
     "output_type": "stream",
     "text": [
      "Input number of samples (integer number) which are generated:  5\n",
      "Input loss name:  RMSE\n"
     ]
    },
    {
     "name": "stdout",
     "output_type": "stream",
     "text": [
      "loss name: RMSE, sample: 0, pred: 7.67301894317883 target: 1.5965959607821079, loss: 36.922916260999074\n",
      "loss name: RMSE, sample: 1, pred: 9.157818316446017 target: 1.364090901484315, loss: 60.742187018725616\n",
      "loss name: RMSE, sample: 2, pred: 1.2644391273721478 target: 0.3611988768414154, loss: 0.8158429501788202\n",
      "loss name: RMSE, sample: 3, pred: 8.056184106017234 target: 9.720289485518173, loss: 2.769246714083962\n",
      "loss name: RMSE, sample: 4, pred: 6.569094220026486 target: 3.0143179904566297, loss: 12.636434042314882\n",
      "final RMSE: 4.772559627418024\n"
     ]
    }
   ],
   "source": [
    "loss_func()"
   ]
  },
  {
   "cell_type": "code",
   "execution_count": null,
   "id": "b268e196-ce62-4f35-8960-b807b7aff12e",
   "metadata": {},
   "outputs": [],
   "source": []
  },
  {
   "cell_type": "code",
   "execution_count": 94,
   "id": "730fa589-1dcf-4ad8-a150-519c97988d40",
   "metadata": {},
   "outputs": [
    {
     "data": {
      "text/plain": [
       "0.001592652393160744"
      ]
     },
     "execution_count": 94,
     "metadata": {},
     "output_type": "execute_result"
    }
   ],
   "source": [
    "import math\n",
    "def factorial(x):\n",
    "    if x <= 1:\n",
    "        return 1\n",
    "    return x * factorial(x-1)\n",
    "def approx_sin(x, n):\n",
    "    res = 0\n",
    "    for i in range(n):\n",
    "        res += math.pow(-1, i) * math.pow(x, 2*i+1) / factorial(2*i+1)\n",
    "    return res\n",
    "\n",
    "def approx_cos(x, n):\n",
    "    res = 0\n",
    "    for i in range(n):\n",
    "        res += math.pow(-1, i) * math.pow(x, 2*i) / factorial(2*i)\n",
    "    return res\n",
    "\n",
    "def approx_sinh(x, n):\n",
    "    res = 0\n",
    "    for i in range(n):\n",
    "        res += math.pow(x, 2*i+1) / factorial(2*i+1)\n",
    "    return res\n",
    "\n",
    "def approx_cosh(x, n):\n",
    "    res = 0\n",
    "    for i in range(n):\n",
    "        res += math.pow(x, 2*i) / factorial(2*i)\n",
    "    return res\n",
    "\n",
    "approx_sin(3.14, 10)"
   ]
  },
  {
   "cell_type": "code",
   "execution_count": 95,
   "id": "f262c799-f051-4907-8e34-b45e842ac180",
   "metadata": {},
   "outputs": [
    {
     "data": {
      "text/plain": [
       "-0.9999987352210833"
      ]
     },
     "execution_count": 95,
     "metadata": {},
     "output_type": "execute_result"
    }
   ],
   "source": [
    "approx_cos(3.14, 10)"
   ]
  },
  {
   "cell_type": "code",
   "execution_count": 96,
   "id": "f51864cd-7931-45a5-9240-2a471d3a8236",
   "metadata": {},
   "outputs": [
    {
     "data": {
      "text/plain": [
       "11.530292029865986"
      ]
     },
     "execution_count": 96,
     "metadata": {},
     "output_type": "execute_result"
    }
   ],
   "source": [
    "approx_sinh(3.14, 10)"
   ]
  },
  {
   "cell_type": "code",
   "execution_count": 97,
   "id": "81f7bf87-2e06-4162-bbe8-ebb568556551",
   "metadata": {},
   "outputs": [
    {
     "data": {
      "text/plain": [
       "11.573574824666185"
      ]
     },
     "execution_count": 97,
     "metadata": {},
     "output_type": "execute_result"
    }
   ],
   "source": [
    "approx_cosh(3.14, 10)"
   ]
  },
  {
   "cell_type": "code",
   "execution_count": null,
   "id": "7fb528a9-d5e0-420a-9463-35eb604d09cd",
   "metadata": {},
   "outputs": [],
   "source": [
    " "
   ]
  },
  {
   "cell_type": "code",
   "execution_count": 83,
   "id": "fddc9b9a-46d1-4895-b1ad-3262946d200e",
   "metadata": {},
   "outputs": [],
   "source": [
    "def md_nre_single_sample(y, y_hat, n, p):\n",
    "    res = (y**(1/n) - y_hat**(1/n)) ** p\n",
    "    print(res)"
   ]
  },
  {
   "cell_type": "code",
   "execution_count": 84,
   "id": "2f2429d1-d4b0-4e9d-ba8c-c7235218f768",
   "metadata": {},
   "outputs": [
    {
     "name": "stdout",
     "output_type": "stream",
     "text": [
      "0.025031328369998107\n"
     ]
    }
   ],
   "source": [
    "md_nre_single_sample(100, 99.5, 2, 1)"
   ]
  },
  {
   "cell_type": "code",
   "execution_count": 85,
   "id": "aaf8681c-d1e4-4abd-a5ce-a908c8dde585",
   "metadata": {},
   "outputs": [
    {
     "name": "stdout",
     "output_type": "stream",
     "text": [
      "0.03544417213033135\n"
     ]
    }
   ],
   "source": [
    "md_nre_single_sample(50, 49.5, 2, 1)"
   ]
  },
  {
   "cell_type": "code",
   "execution_count": 86,
   "id": "9b390058-e386-4651-8ff3-9f9d22bd2be2",
   "metadata": {},
   "outputs": [
    {
     "name": "stdout",
     "output_type": "stream",
     "text": [
      "0.05625552183565574\n"
     ]
    }
   ],
   "source": [
    "md_nre_single_sample(20, 19.5, 2, 1)"
   ]
  },
  {
   "cell_type": "code",
   "execution_count": 87,
   "id": "519b92d1-507b-427d-8e37-c4899afcc56a",
   "metadata": {},
   "outputs": [
    {
     "name": "stdout",
     "output_type": "stream",
     "text": [
      "0.45836890322464546\n"
     ]
    }
   ],
   "source": [
    "md_nre_single_sample(0.6, 0.1, 2, 1)"
   ]
  },
  {
   "cell_type": "code",
   "execution_count": null,
   "id": "87ac52e6-4aa8-481b-99e4-ed277c703c38",
   "metadata": {},
   "outputs": [],
   "source": []
  },
  {
   "cell_type": "code",
   "execution_count": null,
   "id": "be09d632-e36c-4893-a87c-ec0eab23af29",
   "metadata": {},
   "outputs": [],
   "source": []
  },
  {
   "cell_type": "code",
   "execution_count": 125,
   "id": "41b2d781-4ca4-4080-ba3f-6fc72f5ab25b",
   "metadata": {},
   "outputs": [
    {
     "name": "stdout",
     "output_type": "stream",
     "text": [
      "0.31\n"
     ]
    }
   ],
   "source": [
    "#1\n",
    "def calc_f1_score(tp, fp, fn):\n",
    "    precision = tp / (tp + fp)\n",
    "    recall = tp / (tp + fn)\n",
    "    return 2*precision*recall / (precision + recall)\n",
    "assert np.isclose(round(calc_f1_score(tp = 2, fp = 3, fn = 5), 2), 0.33, rtol=1e-09, atol=1e-09)\n",
    "print(round(calc_f1_score(tp = 2, fp = 4, fn = 5), 2))"
   ]
  },
  {
   "cell_type": "code",
   "execution_count": 123,
   "id": "5687cfdd-c97a-4d60-8924-08ae520a0533",
   "metadata": {},
   "outputs": [
    {
     "name": "stdout",
     "output_type": "stream",
     "text": [
      "True\n",
      "False\n"
     ]
    }
   ],
   "source": [
    "#2\n",
    "import math\n",
    "def is_number(n):\n",
    "    try:\n",
    "        float(n)\n",
    "    except ValueError:\n",
    "        return False\n",
    "    return True\n",
    "assert np.isclose(is_number(3), 1.0, rtol=1e-09, atol=1e-09)\n",
    "assert np.isclose(is_number('-2a'), 0.0, rtol=1e-09, atol=1e-09) \n",
    "print(is_number(1))\n",
    "print(is_number('n'))"
   ]
  },
  {
   "cell_type": "code",
   "execution_count": 118,
   "id": "56d228f0-5652-4338-93fa-103d3061bc1e",
   "metadata": {},
   "outputs": [
    {
     "name": "stdout",
     "output_type": "stream",
     "text": [
      "0.88\n"
     ]
    }
   ],
   "source": [
    "#4\n",
    "def calc_sig(x):\n",
    "    return 1 / (1 + math.exp(-x))\n",
    "assert np.isclose(round(calc_sig(3), 2), 0.95, rtol=1e-09, atol=1e-09)\n",
    "print(round(calc_sig(2), 2))"
   ]
  },
  {
   "cell_type": "code",
   "execution_count": 117,
   "id": "19939935-3483-4314-8e6d-2eb5b5696fc8",
   "metadata": {},
   "outputs": [
    {
     "name": "stdout",
     "output_type": "stream",
     "text": [
      "-0.01\n"
     ]
    }
   ],
   "source": [
    "#5\n",
    "import math\n",
    "def calc_elu(x):\n",
    "    alpha = 0.01\n",
    "    res = x if x>0 else alpha*(math.exp(x) - 1)\n",
    "    return res\n",
    "assert round(calc_elu(1)) == 1\n",
    "print(round(calc_elu(-1), 2))"
   ]
  },
  {
   "cell_type": "code",
   "execution_count": 1,
   "id": "3b20f352-3fc5-4fce-868c-4f3bae5fff82",
   "metadata": {},
   "outputs": [
    {
     "name": "stdout",
     "output_type": "stream",
     "text": [
      "0.95\n"
     ]
    }
   ],
   "source": [
    "#6\n",
    "import math\n",
    "def calc_activation_func(x, act_name):\n",
    "    res = 0\n",
    "    if act_name == \"relu\":\n",
    "        res = x if x >= 0 else 0\n",
    "    elif act_name == \"sigmoid\":\n",
    "        res = 1 / (1 + math.exp(-x))\n",
    "    elif act_name == \"elu\":\n",
    "        alpha = 0.01\n",
    "        res = x if x >0 else alpha * (math.exp(x) - 1)\n",
    "    return res\n",
    "assert calc_activation_func(x = 1, act_name = \"relu\") == 1\n",
    "print(round( calc_activation_func(x = 3, act_name = \"sigmoid\"), 2 ))"
   ]
  },
  {
   "cell_type": "code",
   "execution_count": 111,
   "id": "f0456c33-22e1-4880-b6f0-42ffd5fa09cd",
   "metadata": {},
   "outputs": [
    {
     "name": "stdout",
     "output_type": "stream",
     "text": [
      "7\n"
     ]
    }
   ],
   "source": [
    "#7\n",
    "def calc_ae(y, y_hat):\n",
    "    return abs(y - y_hat) \n",
    "y = 1\n",
    "y_hat = 6\n",
    "assert calc_ae(y, y_hat) == 5\n",
    "print(calc_ae(2, 9))"
   ]
  },
  {
   "cell_type": "code",
   "execution_count": 107,
   "id": "2ef7aa31-9ce8-43f1-b61d-38806e2698d2",
   "metadata": {},
   "outputs": [
    {
     "name": "stdout",
     "output_type": "stream",
     "text": [
      "1\n"
     ]
    }
   ],
   "source": [
    "#8\n",
    "def calc_se(y, y_hat):\n",
    "    return (y - y_hat)**2\n",
    "y = 4\n",
    "y_hat = 2\n",
    "assert calc_se(y, y_hat) == 4\n",
    "print(calc_se(2, 1))"
   ]
  },
  {
   "cell_type": "code",
   "execution_count": 100,
   "id": "b028ce5e-bd1d-4fa7-9bba-b416748887e7",
   "metadata": {},
   "outputs": [
    {
     "name": "stdout",
     "output_type": "stream",
     "text": [
      "-1.0\n"
     ]
    }
   ],
   "source": [
    "#9\n",
    "assert np.isclose(round(approx_cos(x=1, n=10), 2), 0.54, rtol=1e-09, atol=1e-09)\n",
    "print(round(approx_cos(x=3.14, n=10), 2))"
   ]
  },
  {
   "cell_type": "code",
   "execution_count": 103,
   "id": "3f06855b-537b-462a-a07f-a3efb1021fb4",
   "metadata": {},
   "outputs": [
    {
     "name": "stdout",
     "output_type": "stream",
     "text": [
      "0.0016\n"
     ]
    }
   ],
   "source": [
    "#10\n",
    "assert np.isclose(round(approx_sin(x=1, n=10), 4), 0.8415, rtol=1e-09, atol=1e-09)\n",
    "print(round(approx_sin(x=3.14, n=10), 4))"
   ]
  },
  {
   "cell_type": "code",
   "execution_count": 105,
   "id": "84d6cb3e-9519-4c52-ac9a-9c637c7bb646",
   "metadata": {},
   "outputs": [
    {
     "name": "stdout",
     "output_type": "stream",
     "text": [
      "11.53\n"
     ]
    }
   ],
   "source": [
    "#11\n",
    "assert np.isclose(round(approx_sinh(x=1, n=10), 2), 1.18, rtol=1e-09, atol=1e-09)\n",
    "print(round(approx_sinh(x=3.14, n=10), 2))"
   ]
  },
  {
   "cell_type": "code",
   "execution_count": 106,
   "id": "12ab60d6-3f20-440c-81a8-8ba96e736e00",
   "metadata": {},
   "outputs": [
    {
     "name": "stdout",
     "output_type": "stream",
     "text": [
      "11.57\n"
     ]
    }
   ],
   "source": [
    "#12\n",
    "assert np.isclose(round(approx_cosh(x=1, n=10), 2), 1.54, rtol=1e-09, atol=1e-09)\n",
    "print(round(approx_cosh(x=3.14, n=10), 2))"
   ]
  },
  {
   "cell_type": "code",
   "execution_count": null,
   "id": "dcf6c3c7-1d44-49b9-9a61-cc6506f8c7d1",
   "metadata": {},
   "outputs": [],
   "source": []
  },
  {
   "cell_type": "code",
   "execution_count": null,
   "id": "a1be6925-91cd-4c15-a3ac-cc42bb2b60e8",
   "metadata": {},
   "outputs": [],
   "source": []
  },
  {
   "cell_type": "code",
   "execution_count": null,
   "id": "900cbdf7-b965-440e-8d60-276a4be7508a",
   "metadata": {},
   "outputs": [],
   "source": []
  },
  {
   "cell_type": "code",
   "execution_count": null,
   "id": "4ef82988-9011-44d5-98cb-fdb75281ceb0",
   "metadata": {},
   "outputs": [],
   "source": []
  }
 ],
 "metadata": {
  "kernelspec": {
   "display_name": "Python 3 (ipykernel)",
   "language": "python",
   "name": "python3"
  },
  "language_info": {
   "codemirror_mode": {
    "name": "ipython",
    "version": 3
   },
   "file_extension": ".py",
   "mimetype": "text/x-python",
   "name": "python",
   "nbconvert_exporter": "python",
   "pygments_lexer": "ipython3",
   "version": "3.10.8"
  }
 },
 "nbformat": 4,
 "nbformat_minor": 5
}
